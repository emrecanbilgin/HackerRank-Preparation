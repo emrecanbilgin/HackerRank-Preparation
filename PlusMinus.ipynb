{
 "cells": [
  {
   "cell_type": "markdown",
   "id": "70e2f0b9",
   "metadata": {},
   "source": [
    "# Problem:<br> \n",
    "**Bir liste veriliyor. Bu listenin içindeki pozitif, negatif ve \"0\" elemanlarının liste içindeki oranını veren fonksiyonu yazalım.**"
   ]
  },
  {
   "cell_type": "code",
   "execution_count": 11,
   "id": "4d7153f5",
   "metadata": {},
   "outputs": [],
   "source": [
    "def oranbul(arr):\n",
    "    one_list = []\n",
    "    zero_list = []\n",
    "    minusone_list = []\n",
    "    for i in arr:\n",
    "        if i > 0:\n",
    "            one_list.append(i)\n",
    "        elif i == 0:\n",
    "            zero_list.append(i)\n",
    "        elif i < 0:\n",
    "            minusone_list.append(i)\n",
    "        else:\n",
    "            print(\"ERROR\")\n",
    "    ratio_positive = (len(one_list)) / (len(arr))\n",
    "    ratio_zero = (len(zero_list)) / (len(arr))\n",
    "    ratio_negative = (len(minusone_list)) / (len(arr))\n",
    "    print(f\"{ratio_positive:.6f}\\n{ratio_zero:.6f}\\n{ratio_negative:.6f}\")"
   ]
  },
  {
   "cell_type": "code",
   "execution_count": 12,
   "id": "160f83f0",
   "metadata": {},
   "outputs": [
    {
     "name": "stdout",
     "output_type": "stream",
     "text": [
      "0.500000\n",
      "0.300000\n",
      "0.200000\n"
     ]
    }
   ],
   "source": [
    "deneme = [1, 1, 1, 1, 1, 0, 0, 0, -1, -1]\n",
    "\n",
    "oranbul(deneme)"
   ]
  },
  {
   "cell_type": "code",
   "execution_count": 13,
   "id": "a61aa8c8",
   "metadata": {},
   "outputs": [],
   "source": [
    "def plusMinus(arr):\n",
    "    zero_counter = 0\n",
    "    positive_counter = 0\n",
    "    negative_counter = 0\n",
    "    for i in arr:\n",
    "        if i == 0:\n",
    "            zero_counter += 1\n",
    "        elif i > 0:\n",
    "            positive_counter += 1\n",
    "        elif i < 0:\n",
    "            negative_counter += 1\n",
    "        else:\n",
    "            print(\"Error\")\n",
    "    \n",
    "    \n",
    "    \n",
    "    positive_ratio = round(positive_counter / len(arr), 6)\n",
    "    negative_ratio = round(negative_counter / len(arr), 6)\n",
    "    zero_ratio = round(zero_counter / len(arr), 6)\n",
    "    print(f\"{positive_ratio}\\n{negative_ratio}\\n{zero_ratio}\")\n",
    "    "
   ]
  },
  {
   "cell_type": "code",
   "execution_count": 14,
   "id": "3b33c541",
   "metadata": {},
   "outputs": [
    {
     "name": "stdout",
     "output_type": "stream",
     "text": [
      "0.5\n",
      "0.2\n",
      "0.3\n"
     ]
    }
   ],
   "source": [
    "plusMinus(deneme)"
   ]
  },
  {
   "cell_type": "code",
   "execution_count": null,
   "id": "fe7106dc",
   "metadata": {},
   "outputs": [],
   "source": []
  }
 ],
 "metadata": {
  "kernelspec": {
   "display_name": "Python 3 (ipykernel)",
   "language": "python",
   "name": "python3"
  },
  "language_info": {
   "codemirror_mode": {
    "name": "ipython",
    "version": 3
   },
   "file_extension": ".py",
   "mimetype": "text/x-python",
   "name": "python",
   "nbconvert_exporter": "python",
   "pygments_lexer": "ipython3",
   "version": "3.10.9"
  }
 },
 "nbformat": 4,
 "nbformat_minor": 5
}
