{
 "cells": [
  {
   "cell_type": "markdown",
   "id": "51b43590",
   "metadata": {},
   "source": [
    "**Problem**:Beş pozitif tamsayı verildiğinde, bu beş tamsayının tam olarak dördünü toplayarak hesaplanabilen minimum ve maksimum değerleri bulun. Ardından, ilgili minimum ve maksimum değerleri, bir satırda iki uzun tamsayı olarak boşlukla ayrılmış şekilde yazdırın. Özet olarak her elemanın çıkarıldığında tüm değerlerin toplamı en fazla ve en az kaç oluyor, bunu hesaplayan fonssiyonu yazınız."
   ]
  },
  {
   "cell_type": "code",
   "execution_count": 1,
   "id": "cf098665",
   "metadata": {},
   "outputs": [],
   "source": [
    "def miniMaxSum(arr):\n",
    "    sum_of_iteration = list(arr)\n",
    "    for i in range(0, len(arr)):\n",
    "        sum_of_iteration[i] = sum(arr) - sum_of_iteration[i]\n",
    "    \n",
    "    print(min(sum_of_iteration), max(sum_of_iteration))\n",
    "        "
   ]
  },
  {
   "cell_type": "code",
   "execution_count": 2,
   "id": "389c078c",
   "metadata": {},
   "outputs": [
    {
     "name": "stdout",
     "output_type": "stream",
     "text": [
      "16 24\n"
     ]
    }
   ],
   "source": [
    "deneme = [1, 3, 5, 7, 9]\n",
    "\n",
    "miniMaxSum(deneme)"
   ]
  },
  {
   "cell_type": "code",
   "execution_count": 3,
   "id": "d7ad6078",
   "metadata": {},
   "outputs": [
    {
     "name": "stdout",
     "output_type": "stream",
     "text": [
      "10 14\n"
     ]
    }
   ],
   "source": [
    "deneme2 = [1, 2, 3, 4, 5]\n",
    "\n",
    "miniMaxSum(deneme2)"
   ]
  },
  {
   "cell_type": "code",
   "execution_count": null,
   "id": "c9f0f601",
   "metadata": {},
   "outputs": [],
   "source": []
  }
 ],
 "metadata": {
  "kernelspec": {
   "display_name": "Python 3 (ipykernel)",
   "language": "python",
   "name": "python3"
  },
  "language_info": {
   "codemirror_mode": {
    "name": "ipython",
    "version": 3
   },
   "file_extension": ".py",
   "mimetype": "text/x-python",
   "name": "python",
   "nbconvert_exporter": "python",
   "pygments_lexer": "ipython3",
   "version": "3.10.9"
  }
 },
 "nbformat": 4,
 "nbformat_minor": 5
}
