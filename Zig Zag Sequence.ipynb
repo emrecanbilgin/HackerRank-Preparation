{
 "cells": [
  {
   "cell_type": "code",
   "execution_count": 2,
   "id": "54f5de2a",
   "metadata": {},
   "outputs": [],
   "source": [
    "def findZigZagSequence(a, n):\n",
    "    a.sort()\n",
    "    mid = int((n + 1)/2) - 1\n",
    "    a[mid], a[n-1] = a[n-1], a[mid]\n",
    "\n",
    "    st = mid + 1\n",
    "    ed = n - 2\n",
    "    while(st <= ed):\n",
    "        a[st], a[ed] = a[ed], a[st]\n",
    "        st = st + 1\n",
    "        ed = ed - 1\n",
    "\n",
    "    for i in range (n):\n",
    "        if i == n-1:\n",
    "            print(a[i])\n",
    "        else:\n",
    "            print(a[i], end = ' ')\n",
    "    return"
   ]
  },
  {
   "cell_type": "code",
   "execution_count": 6,
   "id": "4c3a3cf8",
   "metadata": {},
   "outputs": [],
   "source": [
    "deneme = [1,2,3,4,5,6,7]"
   ]
  },
  {
   "cell_type": "code",
   "execution_count": 7,
   "id": "08ec1584",
   "metadata": {},
   "outputs": [
    {
     "name": "stdout",
     "output_type": "stream",
     "text": [
      "1 2 3 7 6 5 4\n"
     ]
    }
   ],
   "source": [
    "findZigZagSequence(deneme, 7)"
   ]
  },
  {
   "cell_type": "code",
   "execution_count": 10,
   "id": "e01d65e4",
   "metadata": {},
   "outputs": [],
   "source": [
    "deneme2 = [3,4,7,1,2]"
   ]
  },
  {
   "cell_type": "code",
   "execution_count": 11,
   "id": "e6422ecf",
   "metadata": {},
   "outputs": [
    {
     "name": "stdout",
     "output_type": "stream",
     "text": [
      "1 2 7 4 3\n"
     ]
    }
   ],
   "source": [
    "findZigZagSequence(deneme2, 5)"
   ]
  },
  {
   "cell_type": "code",
   "execution_count": null,
   "id": "2278dbbe",
   "metadata": {},
   "outputs": [],
   "source": []
  }
 ],
 "metadata": {
  "kernelspec": {
   "display_name": "Python 3 (ipykernel)",
   "language": "python",
   "name": "python3"
  },
  "language_info": {
   "codemirror_mode": {
    "name": "ipython",
    "version": 3
   },
   "file_extension": ".py",
   "mimetype": "text/x-python",
   "name": "python",
   "nbconvert_exporter": "python",
   "pygments_lexer": "ipython3",
   "version": "3.10.9"
  }
 },
 "nbformat": 4,
 "nbformat_minor": 5
}
