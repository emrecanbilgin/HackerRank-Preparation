{
 "cells": [
  {
   "cell_type": "markdown",
   "id": "51bcac8f",
   "metadata": {},
   "source": [
    "### **Problem**\n",
    "**Medyanı Bulma**, Bir sayı listesinin medyanı, temel olarak sıralandıktan sonra ortadaki öğesidir. Onun ardından da aynı sayıda öğe gelir. Tek sayıda öğe içeren bir sayı listesi verildiğinde, medyanı bulun."
   ]
  },
  {
   "cell_type": "code",
   "execution_count": 2,
   "id": "702d9e21",
   "metadata": {},
   "outputs": [],
   "source": [
    "def findMedian(arr):\n",
    "    sorted_arr = sorted(arr)\n",
    "    n = len(arr)\n",
    "    median_indeks = n // 2\n",
    "    median = sorted_arr[median_indeks]\n",
    "    return median\n"
   ]
  },
  {
   "cell_type": "code",
   "execution_count": 3,
   "id": "6e839117",
   "metadata": {},
   "outputs": [
    {
     "data": {
      "text/plain": [
       "3"
      ]
     },
     "execution_count": 3,
     "metadata": {},
     "output_type": "execute_result"
    }
   ],
   "source": [
    "deneme = [6,5,4,3,2,1,0]\n",
    "\n",
    "findMedian(deneme)"
   ]
  },
  {
   "cell_type": "code",
   "execution_count": 5,
   "id": "552c0727",
   "metadata": {},
   "outputs": [
    {
     "data": {
      "text/plain": [
       "18"
      ]
     },
     "execution_count": 5,
     "metadata": {},
     "output_type": "execute_result"
    }
   ],
   "source": [
    "deneme2 = [15,14,16,18,17,20,19,21,22]\n",
    "\n",
    "findMedian(deneme2)"
   ]
  },
  {
   "cell_type": "code",
   "execution_count": null,
   "id": "820ad441",
   "metadata": {},
   "outputs": [],
   "source": []
  }
 ],
 "metadata": {
  "kernelspec": {
   "display_name": "Python 3 (ipykernel)",
   "language": "python",
   "name": "python3"
  },
  "language_info": {
   "codemirror_mode": {
    "name": "ipython",
    "version": 3
   },
   "file_extension": ".py",
   "mimetype": "text/x-python",
   "name": "python",
   "nbconvert_exporter": "python",
   "pygments_lexer": "ipython3",
   "version": "3.10.9"
  }
 },
 "nbformat": 4,
 "nbformat_minor": 5
}
