{
 "cells": [
  {
   "cell_type": "markdown",
   "id": "48463973",
   "metadata": {},
   "source": [
    "## Problem :\n",
    "**Bir kare matris verildiğinde, köşegenlerinin toplamları arasındaki mutlak farkı hesaplayın.**"
   ]
  },
  {
   "cell_type": "code",
   "execution_count": 6,
   "id": "44bc0885",
   "metadata": {},
   "outputs": [],
   "source": [
    "def diagonalDifference(arr):\n",
    "    n = len(arr)\n",
    "    diagonal_sum1 = sum(arr[i][i] for i in range(n))\n",
    "    diagonal_sum2 = sum(arr[i][n - i -1] for i in range(n))\n",
    "    \n",
    "    diff = abs(diagonal_sum1-diagonal_sum2)\n",
    "    return diff"
   ]
  },
  {
   "cell_type": "code",
   "execution_count": 8,
   "id": "e7d88a4f",
   "metadata": {},
   "outputs": [
    {
     "data": {
      "text/plain": [
       "2"
      ]
     },
     "execution_count": 8,
     "metadata": {},
     "output_type": "execute_result"
    }
   ],
   "source": [
    "deneme = [[1,2,3],\n",
    "         [4,5,6],\n",
    "         [9,8,9]]\n",
    "\n",
    "diagonalDifference(deneme)"
   ]
  },
  {
   "cell_type": "code",
   "execution_count": 9,
   "id": "a3db7762",
   "metadata": {},
   "outputs": [
    {
     "data": {
      "text/plain": [
       "86"
      ]
     },
     "execution_count": 9,
     "metadata": {},
     "output_type": "execute_result"
    }
   ],
   "source": [
    "deneme2 = [[1,2,3,4],\n",
    "            [5,5,5,5],\n",
    "            [7,8,55,65],\n",
    "            [32,33,45,74]]\n",
    "diagonalDifference(deneme2)"
   ]
  },
  {
   "cell_type": "code",
   "execution_count": null,
   "id": "7cf5c852",
   "metadata": {},
   "outputs": [],
   "source": []
  }
 ],
 "metadata": {
  "kernelspec": {
   "display_name": "Python 3 (ipykernel)",
   "language": "python",
   "name": "python3"
  },
  "language_info": {
   "codemirror_mode": {
    "name": "ipython",
    "version": 3
   },
   "file_extension": ".py",
   "mimetype": "text/x-python",
   "name": "python",
   "nbconvert_exporter": "python",
   "pygments_lexer": "ipython3",
   "version": "3.10.9"
  }
 },
 "nbformat": 4,
 "nbformat_minor": 5
}
