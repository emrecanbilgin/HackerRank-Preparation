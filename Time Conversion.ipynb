{
 "cells": [
  {
   "cell_type": "markdown",
   "id": "1652008c",
   "metadata": {},
   "source": [
    "**Problem**:12 saatlik AM/PM formatındaki bir zamanı askeri (24 saatlik) formata dönüştürün.\n",
    "Not: - 12 saatlik bir saatte 12:00:00AM, 24 saatlik saatte 00:00:00'dir.\n",
    "12 saatlik bir saatte 12:00:00PM, 24 saatlik saatte 12:00:00'dir.\n",
    "\n",
    "Fonksiyon Açıklaması\n",
    "TimeConversion işlevini tamamlayın. Girdi zamanını 24 saatlik formatta temsil eden yeni bir dize döndürmelidir.\n",
    "timeConversion'un aşağıdaki parametresi vardır:\n",
    "string s: 12 saatlik formatta bir zaman\n",
    "Return\n",
    "string: 24 saatlik formattaki zaman"
   ]
  },
  {
   "cell_type": "code",
   "execution_count": 1,
   "id": "4d9d2d44",
   "metadata": {},
   "outputs": [],
   "source": [
    "def timeConversion(s):\n",
    "    if s[-2:] == \"PM\" and s[0:2] != \"12\":\n",
    "        s = str(int(s[:2])+12)+s[2:8]\n",
    "        return s\n",
    "    \n",
    "    elif s[-2:] == \"AM\" and s[0:2] == \"12\":\n",
    "        s = \"00\" + s[2:8]\n",
    "        return s\n",
    "    \n",
    "    elif s[-2:] == \"PM\" and s[0:2] == \"12\":\n",
    "        s = \"12\" + s[2:8]\n",
    "        return s\n",
    "    \n",
    "    else:\n",
    "        return s[:8]"
   ]
  },
  {
   "cell_type": "code",
   "execution_count": 2,
   "id": "040b9bc7",
   "metadata": {},
   "outputs": [
    {
     "data": {
      "text/plain": [
       "'19:05:45'"
      ]
     },
     "execution_count": 2,
     "metadata": {},
     "output_type": "execute_result"
    }
   ],
   "source": [
    "deneme = \"07:05:45PM\"\n",
    "\n",
    "timeConversion(deneme)"
   ]
  },
  {
   "cell_type": "code",
   "execution_count": 3,
   "id": "412ccb5e",
   "metadata": {},
   "outputs": [
    {
     "data": {
      "text/plain": [
       "'12:01:00'"
      ]
     },
     "execution_count": 3,
     "metadata": {},
     "output_type": "execute_result"
    }
   ],
   "source": [
    "deneme1 = \"12:01:00PM\"\n",
    "\n",
    "timeConversion(deneme1)"
   ]
  },
  {
   "cell_type": "code",
   "execution_count": 4,
   "id": "024d4f23",
   "metadata": {},
   "outputs": [
    {
     "data": {
      "text/plain": [
       "'00:01:00'"
      ]
     },
     "execution_count": 4,
     "metadata": {},
     "output_type": "execute_result"
    }
   ],
   "source": [
    "deneme2 = \"12:01:00AM\"\n",
    "\n",
    "timeConversion(deneme2)"
   ]
  },
  {
   "cell_type": "code",
   "execution_count": null,
   "id": "b3c4473f",
   "metadata": {},
   "outputs": [],
   "source": []
  }
 ],
 "metadata": {
  "kernelspec": {
   "display_name": "Python 3 (ipykernel)",
   "language": "python",
   "name": "python3"
  },
  "language_info": {
   "codemirror_mode": {
    "name": "ipython",
    "version": 3
   },
   "file_extension": ".py",
   "mimetype": "text/x-python",
   "name": "python",
   "nbconvert_exporter": "python",
   "pygments_lexer": "ipython3",
   "version": "3.10.9"
  }
 },
 "nbformat": 4,
 "nbformat_minor": 5
}
