{
 "cells": [
  {
   "cell_type": "markdown",
   "id": "1696caa6",
   "metadata": {},
   "source": [
    "## Problem\n",
    "### **Karşılaştırmalı Sıralama**<br>\n",
    "**Quicksort genellikle n x log(n) çalışma zamanına sahiptir, ancak daha hızlı sıralama yapabilen bir algoritma var mı? Genel olarak, bu mümkün değil. Çoğu sıralama algoritması karşılaştırmalı sıralamalardır, yani bir listeyi sadece öğeleri birbirleriyle karşılaştırarak sıralarlar. Karşılaştırmalı sıralama algoritması, her öğeyi nereye yerleştireceğinizi bilmek için gereken minimum karşılaştırma sayısını temsil eden n x log(n) (en kötü durum) çalışma zamanını geçemez.**<br>\n",
    "### **Alternatif Sıralama**<br>\n",
    "**Başka bir sıralama yöntemi olan sayım sıralaması (counting sort), karşılaştırmayı gerektirmez. Bunun yerine, sıralamak istediğiniz dizinin tüm değer aralığını kapsayan bir tam sayı dizisi oluşturursunuz. Her bir değer orijinal dizide meydana geldiğinde, o indexteki sayacı artırırsınız. Sonunda, sayma dizinizin üzerinden geçerken, her sıfır olmayan değere sahip indexteki değeri o kadar kez yazdırırsınız.**"
   ]
  },
  {
   "cell_type": "code",
   "execution_count": 1,
   "id": "73d79eb5",
   "metadata": {},
   "outputs": [],
   "source": [
    "def countingSort(arr):\n",
    "    counting_array = [0] * 100\n",
    "    for i in arr:\n",
    "        counting_array[i] += 1\n",
    "    return counting_array"
   ]
  },
  {
   "cell_type": "code",
   "execution_count": 8,
   "id": "6756fc28",
   "metadata": {},
   "outputs": [
    {
     "data": {
      "text/plain": [
       "[1,\n",
       " 2,\n",
       " 3,\n",
       " 0,\n",
       " 0,\n",
       " 2,\n",
       " 0,\n",
       " 0,\n",
       " 0,\n",
       " 0,\n",
       " 0,\n",
       " 0,\n",
       " 0,\n",
       " 0,\n",
       " 0,\n",
       " 0,\n",
       " 0,\n",
       " 1,\n",
       " 0,\n",
       " 0,\n",
       " 0,\n",
       " 0,\n",
       " 0,\n",
       " 0,\n",
       " 0,\n",
       " 0,\n",
       " 0,\n",
       " 0,\n",
       " 0,\n",
       " 0,\n",
       " 0,\n",
       " 0,\n",
       " 0,\n",
       " 0,\n",
       " 0,\n",
       " 0,\n",
       " 0,\n",
       " 0,\n",
       " 0,\n",
       " 0,\n",
       " 0,\n",
       " 0,\n",
       " 0,\n",
       " 0,\n",
       " 0,\n",
       " 0,\n",
       " 0,\n",
       " 0,\n",
       " 0,\n",
       " 0,\n",
       " 0,\n",
       " 0,\n",
       " 0,\n",
       " 0,\n",
       " 0,\n",
       " 0,\n",
       " 0,\n",
       " 0,\n",
       " 0,\n",
       " 0,\n",
       " 0,\n",
       " 0,\n",
       " 0,\n",
       " 0,\n",
       " 0,\n",
       " 0,\n",
       " 0,\n",
       " 0,\n",
       " 0,\n",
       " 0,\n",
       " 0,\n",
       " 0,\n",
       " 0,\n",
       " 0,\n",
       " 0,\n",
       " 0,\n",
       " 0,\n",
       " 0,\n",
       " 0,\n",
       " 0,\n",
       " 0,\n",
       " 0,\n",
       " 0,\n",
       " 0,\n",
       " 0,\n",
       " 0,\n",
       " 0,\n",
       " 0,\n",
       " 0,\n",
       " 0,\n",
       " 0,\n",
       " 0,\n",
       " 0,\n",
       " 0,\n",
       " 0,\n",
       " 0,\n",
       " 0,\n",
       " 0,\n",
       " 0,\n",
       " 0]"
      ]
     },
     "execution_count": 8,
     "metadata": {},
     "output_type": "execute_result"
    }
   ],
   "source": [
    "deneme = [0,1,1,2,2,2,5,5,17] # İndeks sayısına göre o elemandan kaç tane olduğunu gösteriyor\n",
    "\n",
    "countingSort(deneme)"
   ]
  },
  {
   "cell_type": "code",
   "execution_count": null,
   "id": "468e0b67",
   "metadata": {},
   "outputs": [],
   "source": []
  },
  {
   "cell_type": "code",
   "execution_count": null,
   "id": "9e6f9ccf",
   "metadata": {},
   "outputs": [],
   "source": []
  }
 ],
 "metadata": {
  "kernelspec": {
   "display_name": "Python 3 (ipykernel)",
   "language": "python",
   "name": "python3"
  },
  "language_info": {
   "codemirror_mode": {
    "name": "ipython",
    "version": 3
   },
   "file_extension": ".py",
   "mimetype": "text/x-python",
   "name": "python",
   "nbconvert_exporter": "python",
   "pygments_lexer": "ipython3",
   "version": "3.10.9"
  }
 },
 "nbformat": 4,
 "nbformat_minor": 5
}
