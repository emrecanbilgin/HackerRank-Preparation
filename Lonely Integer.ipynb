{
 "cells": [
  {
   "cell_type": "code",
   "execution_count": 1,
   "id": "2a550564",
   "metadata": {},
   "outputs": [],
   "source": [
    "def lonelyinteger(a):\n",
    "    my_set = set()\n",
    "    for i in a:\n",
    "        if i in my_set:\n",
    "            my_set.remove(i)\n",
    "        else:\n",
    "            my_set.add(i)\n",
    "    lonely_one = my_set.pop()\n",
    "    \n",
    "    return lonely_one"
   ]
  },
  {
   "cell_type": "code",
   "execution_count": 3,
   "id": "5b4bc4d9",
   "metadata": {},
   "outputs": [
    {
     "data": {
      "text/plain": [
       "4"
      ]
     },
     "execution_count": 3,
     "metadata": {},
     "output_type": "execute_result"
    }
   ],
   "source": [
    "deneme = [1,2,3,4,3,2,1]\n",
    "\n",
    "lonelyinteger(deneme)"
   ]
  },
  {
   "cell_type": "code",
   "execution_count": 5,
   "id": "a015fb94",
   "metadata": {},
   "outputs": [
    {
     "data": {
      "text/plain": [
       "86"
      ]
     },
     "execution_count": 5,
     "metadata": {},
     "output_type": "execute_result"
    }
   ],
   "source": [
    "deneme2 = [33,33,75,75,86,42,42,39,39]\n",
    "\n",
    "lonelyinteger(deneme2)"
   ]
  },
  {
   "cell_type": "code",
   "execution_count": null,
   "id": "6a6dfd2c",
   "metadata": {},
   "outputs": [],
   "source": []
  }
 ],
 "metadata": {
  "kernelspec": {
   "display_name": "Python 3 (ipykernel)",
   "language": "python",
   "name": "python3"
  },
  "language_info": {
   "codemirror_mode": {
    "name": "ipython",
    "version": 3
   },
   "file_extension": ".py",
   "mimetype": "text/x-python",
   "name": "python",
   "nbconvert_exporter": "python",
   "pygments_lexer": "ipython3",
   "version": "3.10.9"
  }
 },
 "nbformat": 4,
 "nbformat_minor": 5
}
